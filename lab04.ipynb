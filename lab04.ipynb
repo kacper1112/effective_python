{
 "cells": [
  {
   "cell_type": "markdown",
   "metadata": {},
   "source": [
    "## Lab 04"
   ]
  },
  {
   "cell_type": "markdown",
   "metadata": {},
   "source": [
    "## Zadanie 1 (Igor Sieradzki)"
   ]
  },
  {
   "cell_type": "markdown",
   "metadata": {},
   "source": [
    "Funkcja <t>flow_rate</i> do modyfikacji"
   ]
  },
  {
   "cell_type": "code",
   "execution_count": 2,
   "metadata": {
    "collapsed": true
   },
   "outputs": [],
   "source": [
    "def flow_rate(weight, time):\n",
    "    \"\"\" Funkcja wylicza ile wagi produktu przybyło/ubyło w jednostce czasu \"\"\"\n",
    "    return weight / time\n",
    "\n",
    "weight = 0.5\n",
    "time = 3"
   ]
  },
  {
   "cell_type": "code",
   "execution_count": 3,
   "metadata": {
    "collapsed": true
   },
   "outputs": [
    {
     "name": "stdout",
     "output_type": "stream",
     "text": [
      "0.167 kg per second\n"
     ]
    }
   ],
   "source": [
    "flow = flow_rate(weight, time)\n",
    "print(\"{0:.3} kg per second\".format(flow))"
   ]
  },
  {
   "cell_type": "markdown",
   "metadata": {
    "collapsed": true
   },
   "source": [
    "Zmodyfikuj funkcje <i>flow_rate</i> tak, aby poniższe wywołania działały poprawnie."
   ]
  },
  {
   "cell_type": "code",
   "execution_count": 3,
   "metadata": {
    "collapsed": true
   },
   "outputs": [
    {
     "ename": "TypeError",
     "evalue": "flow_rate() got an unexpected keyword argument 'period'",
     "output_type": "error",
     "traceback": [
      "\u001b[0;31m---------------------------------------------------------------------------\u001b[0m",
      "\u001b[0;31mTypeError\u001b[0m                                 Traceback (most recent call last)",
      "Cell \u001b[0;32mIn [3], line 1\u001b[0m\n\u001b[0;32m----> 1\u001b[0m flow \u001b[39m=\u001b[39m flow_rate(weight, time, period\u001b[39m=\u001b[39;49m\u001b[39m60\u001b[39;49m, units_per_kg\u001b[39m=\u001b[39;49m\u001b[39m1000\u001b[39;49m)\n\u001b[1;32m      2\u001b[0m \u001b[39mprint\u001b[39m(\u001b[39m\"\u001b[39m\u001b[39m{}\u001b[39;00m\u001b[39m grams per minute\u001b[39m\u001b[39m\"\u001b[39m\u001b[39m.\u001b[39mformat(flow))\n",
      "\u001b[0;31mTypeError\u001b[0m: flow_rate() got an unexpected keyword argument 'period'"
     ]
    }
   ],
   "source": [
    "flow = flow_rate(weight, time, period=60, units_per_kg=1000)\n",
    "print(\"{} grams per minute\".format(flow))"
   ]
  },
  {
   "cell_type": "code",
   "execution_count": null,
   "metadata": {
    "collapsed": true
   },
   "outputs": [],
   "source": [
    "flow = flow_rate(weight, time, period=1, units_per_kg=1)\n",
    "print(\"{0:.3} kg per second\".format(flow))"
   ]
  },
  {
   "cell_type": "code",
   "execution_count": null,
   "metadata": {
    "collapsed": true
   },
   "outputs": [],
   "source": [
    "flow = flow_rate(weight, time)\n",
    "print(\"{0:.3} grams per minute\".format(flow))"
   ]
  },
  {
   "cell_type": "markdown",
   "metadata": {},
   "source": [
    "Wyjaśnić czemu poniższe rzucanie błędu jest porządane"
   ]
  },
  {
   "cell_type": "code",
   "execution_count": null,
   "metadata": {
    "collapsed": true
   },
   "outputs": [],
   "source": [
    "try:\n",
    "    flow = flow_rate(weight, time, 3600, 2.2)\n",
    "except TypeError:\n",
    "    print(True)"
   ]
  },
  {
   "cell_type": "markdown",
   "metadata": {},
   "source": [
    "## Zadanie 2 (Igor Sieradzki)"
   ]
  },
  {
   "cell_type": "markdown",
   "metadata": {},
   "source": [
    "Dopisz definicje dekoratora _timeit_, który wypisze na wyjscie standardowe czas wywołania udekorowanej funckji np.\n",
    "\n",
    "```\n",
    "@timeit\n",
    "def foo(x):\n",
    "    return x**2\n",
    "    \n",
    "r = foo(2)\n",
    "```\n",
    "wypize: <br>\n",
    "    `Function foo took: 0.00001 seconds` <br>\n",
    "oraz zwróci 4"
   ]
  },
  {
   "cell_type": "code",
   "execution_count": 5,
   "metadata": {
    "collapsed": true
   },
   "outputs": [
    {
     "name": "stdout",
     "output_type": "stream",
     "text": [
      "0.23187780380249023\n",
      "0.21127820014953613\n",
      "3.0994415283203125e-06\n"
     ]
    }
   ],
   "source": [
    "from time import time\n",
    "\n",
    "\"\"\" Wypisuje czas wywołania udekorowanej funckji \"\"\"\n",
    "def timeit(func):\n",
    "    def wrapper(*args, **kwargs):\n",
    "        start = time()\n",
    "        func(*args, **kwargs)\n",
    "        end = time()\n",
    "        print(end - start)\n",
    "    return wrapper\n",
    "\n",
    "@timeit\n",
    "def squares_list(n):\n",
    "    squares = []\n",
    "    for i in range(n):\n",
    "        squares.append(i ** 2)\n",
    "    return squares\n",
    "\n",
    "@timeit\n",
    "def squares_comprehension(n):\n",
    "    return [i ** 2 for i in range(n)]\n",
    "\n",
    "@timeit\n",
    "def squares_map(n):\n",
    "    return map(lambda x: x**2, range(n))\n",
    "\n",
    "n = 1000000\n",
    "l = squares_list(n)\n",
    "c = squares_comprehension(n)\n",
    "m = squares_map(n)"
   ]
  },
  {
   "cell_type": "markdown",
   "metadata": {},
   "source": [
    "## Zadanie 3 (Igor Sieradzki)"
   ]
  },
  {
   "cell_type": "markdown",
   "metadata": {},
   "source": [
    "Dopisz definicje dekoratora _derivate_ wg. instrukcji w _docstringu_"
   ]
  },
  {
   "cell_type": "code",
   "execution_count": 9,
   "metadata": {
    "collapsed": true
   },
   "outputs": [
    {
     "name": "stdout",
     "output_type": "stream",
     "text": [
      "True\n",
      "True\n",
      "True\n",
      "True\n",
      "1752.1741224918514 1752.1641224935756 \t True\n",
      "2302559.3638420105 2302559.334115261 \t True\n",
      "903.583818487823 903.5738184880129 \t True\n",
      "612334.2469334602 612334.2340927563 \t True\n",
      "1537.1796404127963 1537.1696404136433 \t True\n",
      "1772167.8912639616 1772167.877557057 \t True\n",
      "192.59774610927707 192.5877461092691 \t True\n",
      "27817.532850895073 27817.529963586217 \t True\n",
      "148.48238249587666 148.47238249587625 \t True\n",
      "16533.038503257558 16533.036273001333 \t True\n",
      "1337.2857292881235 1337.2757292919525 \t True\n",
      "1341229.796409607 1341229.7821149926 \t True\n",
      "557.3935292472015 557.3835292469042 \t True\n",
      "233007.30660557744 233007.2990068009 \t True\n",
      "1796.7357680085115 1796.7257680186196 \t True\n",
      "2421167.6239967346 2421167.614096574 \t True\n",
      "713.5195804585237 713.5095804590867 \t True\n",
      "381821.95052504534 381821.94105517643 \t True\n",
      "506.5894145249331 506.57941452546163 \t True\n",
      "192467.0351669192 192467.0274157196 \t True\n",
      "72.90124729520358 72.89124729520636 \t True\n",
      "3984.8515443736683 3984.850449188196 \t True\n",
      "606.2701380244107 606.2601380246726 \t True\n",
      "275663.5244935751 275663.51621827134 \t True\n",
      "1702.9875188833103 1702.9775188891806 \t True\n",
      "2175099.3371009827 2175099.322381462 \t True\n",
      "1431.4475290942937 1431.4375290983623 \t True\n",
      "1536760.067939758 1536760.0497834187 \t True\n",
      "312.45589982099773 312.44589982119186 \t True\n",
      "73216.83499030769 73216.83023630569 \t True\n",
      "1443.3434977312572 1443.333497730856 \t True\n",
      "1562408.7095260618 1562408.68925399 \t True\n",
      "179.1486949494356 179.13869494931345 \t True\n",
      "24068.006721790876 24068.004021107383 \t True\n",
      "1983.7937018135563 1983.7837018119612 \t True\n",
      "2951548.361778259 2951548.3316810764 \t True\n",
      "570.5619168453268 570.5519168452306 \t True\n",
      "244147.12525904176 244147.1173618252 \t True\n",
      "1986.0911148949526 1986.0811148954108 \t True\n",
      "2958388.6623382564 2958388.6462081484 \t True\n"
     ]
    }
   ],
   "source": [
    "import sys\n",
    "sys.float_info.epsilon # epsilon maszynowy\n",
    "\n",
    "\n",
    "def derivate(h=1000*sys.float_info.epsilon):\n",
    "    def wrapper(f):\n",
    "        def wrapperr(x):\n",
    "            return (f(x + h) - f(x)) / h\n",
    "        return wrapperr\n",
    "    \"\"\"\n",
    "    Zwraca pochodną funkcji w punkcie, wg. wzoru f'(x) = [f(x+h) - f(x)]/h, \n",
    "    gdzie h jest parametrem dekoratora, jeśli nie zostanie podany, należy przyjąć 1000 * epsilon maszynowy\n",
    "    \"\"\"\n",
    "    return wrapper\n",
    "\n",
    "\n",
    "@derivate(0.01)\n",
    "def f(x):\n",
    "    return x*x\n",
    "\n",
    "@derivate(0.00001)\n",
    "def g(x):\n",
    "    return x*x*x+3\n",
    "\n",
    "def test(a, b, eps=1):\n",
    "    return abs(round(a)-round(b)) < eps\n",
    "\n",
    "print(test(f(100), 200.0))\n",
    "print(round(f(0)) == 0.0)\n",
    "\n",
    "print(test(g(100), 30000.0))\n",
    "print(round(g(0)) == 0.0)\n",
    "\n",
    "from random import random\n",
    "for x in [random()*1000. for _ in range(20)]:\n",
    "    print(f(x), 2*x, '\\t', test(f(x), 2*x))\n",
    "    print(g(x), 3*x**2, '\\t', test(g(x), 3*x**2))"
   ]
  },
  {
   "cell_type": "markdown",
   "metadata": {},
   "source": [
    "## Zadanie 4 (Igor Sieradzki)"
   ]
  },
  {
   "cell_type": "markdown",
   "metadata": {},
   "source": [
    "Dopisz definicje dekoratora _accepts_ wg. instrukcji w _docstringu_"
   ]
  },
  {
   "cell_type": "code",
   "execution_count": 19,
   "metadata": {},
   "outputs": [
    {
     "name": "stdout",
     "output_type": "stream",
     "text": [
      "['ala', 'kota', 'argument']\n"
     ]
    }
   ],
   "source": [
    "def dupa(*args, **kwargs):\n",
    "    print(list(kwargs.values()) + list(args))\n",
    "\n",
    "dupa('argument', key1='ala', key2='kota')"
   ]
  },
  {
   "cell_type": "code",
   "execution_count": 38,
   "metadata": {
    "collapsed": true
   },
   "outputs": [
    {
     "name": "stdout",
     "output_type": "stream",
     "text": [
      "True\n",
      "True\n",
      "True\n",
      "True\n",
      "True\n",
      "True\n",
      "True\n"
     ]
    }
   ],
   "source": [
    "\"\"\"Sprawdza czy udekorowanej funckji zostały podane odpowiednie parametry zdefiniowane \n",
    "    w argumentach dekoratora\"\"\"\n",
    "def accepts(*types):\n",
    "    def wrapper(func):\n",
    "        def wrapperr(*args, **kwargs):\n",
    "            allArgs = list(args) + list(kwargs.values())\n",
    "            if(any(t != type(arg) for arg, t in zip(allArgs, types))):\n",
    "                raise TypeError\n",
    "                \n",
    "            return func(*args, **kwargs)\n",
    "        return wrapperr\n",
    "    return wrapper\n",
    "\n",
    "\n",
    "@accepts(str)\n",
    "def capitalize(word):\n",
    "    return word[0].upper() + word[1:]\n",
    "\n",
    "print(capitalize('ola') == 'Ola')\n",
    "\n",
    "try:\n",
    "    capitalize(2)\n",
    "except TypeError:\n",
    "    print(True)\n",
    "\n",
    "@accepts(float, int)\n",
    "def static_pow(base, exp):\n",
    "    return base ** exp \n",
    "\n",
    "print(static_pow(2., 2) == 4.)\n",
    "print(static_pow(2., exp=2) == 4.)\n",
    "print(static_pow(base=2., exp=2) == 4.)\n",
    "\n",
    "try:\n",
    "    static_pow('x', 10)\n",
    "except TypeError:\n",
    "    print(True)\n",
    "    \n",
    "try:\n",
    "    static_pow(2, 2.2)\n",
    "except TypeError:\n",
    "    print(True)"
   ]
  },
  {
   "cell_type": "markdown",
   "metadata": {},
   "source": [
    "## Zadanie 5 (Igor Sieradzki)"
   ]
  },
  {
   "cell_type": "markdown",
   "metadata": {},
   "source": [
    "Dopisz definicje dekoratora _returns_ wg. instrukcji w _docstringu_"
   ]
  },
  {
   "cell_type": "code",
   "execution_count": 1,
   "metadata": {
    "collapsed": true
   },
   "outputs": [
    {
     "name": "stdout",
     "output_type": "stream",
     "text": [
      "True\n",
      "True\n",
      "True\n",
      "True\n"
     ]
    }
   ],
   "source": [
    "\"\"\"Sprawdza czy udekorowana funkcja zwraca poprawne argumenty, zdefiniowane w parametrach dekoratora\"\"\"\n",
    "def returns(*types):\n",
    "    def returnss(func):\n",
    "        def returnsss(*args, **kwargs):\n",
    "            result = func(*args, **kwargs)\n",
    "            resultTuple = result if type(result) == tuple else (result,)\n",
    "            \n",
    "            # if any(type(res) != t for res, t in zip(resultTuple, types)):\n",
    "            #     raise TypeError\n",
    "\n",
    "            if all(isinstance(res, t) for res, t in zip(resultTuple, types)):\n",
    "                return result\n",
    "            \n",
    "            raise TypeError\n",
    "        return returnsss\n",
    "    return returnss\n",
    "\n",
    "\n",
    "@returns(str)\n",
    "def str_only_identity(word):\n",
    "    return word\n",
    "\n",
    "print(str_only_identity('hello') == 'hello')\n",
    "\n",
    "try:\n",
    "    str_only_identity(10)\n",
    "except TypeError:\n",
    "    print(True)\n",
    "    \n",
    "@returns(int, int)\n",
    "def split_indices(x):\n",
    "    return x[0], x[1]\n",
    "\n",
    "print(split_indices(x=[6,9]) == (6,9))\n",
    "\n",
    "try:\n",
    "    split_indices('AB')\n",
    "except TypeError:\n",
    "    print(True)"
   ]
  },
  {
   "cell_type": "markdown",
   "metadata": {},
   "source": [
    "## Zadanie 6 (Igor Sieradzki)\n",
    "Stwórz dekorator cached służący do cachowania wywołań dowolnej funkcji, tzn. chcemy by:\n",
    "* wywołanie funkcji z określonymi argumentami miało miejsce tylko raz\n",
    "* funkcja mogła przyjmować dowolną liczbę nazwanych i nienazwanych argumentów\n",
    "* nie musi reagować poprawnie na domyślne argumenty, tzn. wywołanie funkcji z domyślnymi argumentami a podanie dokładnie takich samych może być traktowane jako dwa różne wywołania\n",
    "* na opakowanej funkcji można wywołać `.cache_reset()`, który usunie cache z pamięci\n",
    "* wywołanie `.cache_status()` zwraca string z opisem w postaci: <br>\n",
    "    `Function FUNCTION_NAME called X times, evaluated Y times`"
   ]
  },
  {
   "cell_type": "code",
   "execution_count": 64,
   "metadata": {
    "collapsed": true
   },
   "outputs": [
    {
     "ename": "UnboundLocalError",
     "evalue": "local variable 'counter' referenced before assignment",
     "output_type": "error",
     "traceback": [
      "\u001b[0;31m---------------------------------------------------------------------------\u001b[0m",
      "\u001b[0;31mUnboundLocalError\u001b[0m                         Traceback (most recent call last)",
      "Cell \u001b[0;32mIn [64], line 30\u001b[0m\n\u001b[1;32m     25\u001b[0m \u001b[39m@cached\u001b[39m\n\u001b[1;32m     26\u001b[0m \u001b[39mdef\u001b[39;00m \u001b[39mfoo\u001b[39m(x, y\u001b[39m=\u001b[39m\u001b[39m1\u001b[39m, z\u001b[39m=\u001b[39m\u001b[39m4\u001b[39m):\n\u001b[1;32m     27\u001b[0m     \u001b[39mreturn\u001b[39;00m random()\n\u001b[0;32m---> 30\u001b[0m \u001b[39mprint\u001b[39m(foo(\u001b[39m3\u001b[39;49m) \u001b[39m==\u001b[39m foo(\u001b[39m3\u001b[39m))\n\u001b[1;32m     31\u001b[0m \u001b[39mprint\u001b[39m(foo(\u001b[39m4\u001b[39m) \u001b[39m==\u001b[39m foo(\u001b[39m4\u001b[39m))\n\u001b[1;32m     32\u001b[0m \u001b[39mprint\u001b[39m(foo(\u001b[39m3\u001b[39m, z\u001b[39m=\u001b[39m\u001b[39m-\u001b[39m\u001b[39m1\u001b[39m, y\u001b[39m=\u001b[39m\u001b[39m3\u001b[39m) \u001b[39m==\u001b[39m foo(\u001b[39m3\u001b[39m, y\u001b[39m=\u001b[39m\u001b[39m3\u001b[39m, z\u001b[39m=\u001b[39m\u001b[39m-\u001b[39m\u001b[39m1\u001b[39m))\n",
      "Cell \u001b[0;32mIn [64], line 15\u001b[0m, in \u001b[0;36mcached.<locals>.wrapper\u001b[0;34m(*args, **kwargs)\u001b[0m\n\u001b[1;32m     14\u001b[0m \u001b[39mdef\u001b[39;00m \u001b[39mwrapper\u001b[39m(\u001b[39m*\u001b[39margs, \u001b[39m*\u001b[39m\u001b[39m*\u001b[39mkwargs):\n\u001b[0;32m---> 15\u001b[0m     \u001b[39mif\u001b[39;00m counter \u001b[39m==\u001b[39m \u001b[39m0\u001b[39m:\n\u001b[1;32m     16\u001b[0m         cache \u001b[39m=\u001b[39m func(\u001b[39m*\u001b[39margs, \u001b[39m*\u001b[39m\u001b[39m*\u001b[39mkwargs)\n\u001b[1;32m     18\u001b[0m     counter \u001b[39m+\u001b[39m\u001b[39m=\u001b[39m \u001b[39m1\u001b[39m\n",
      "\u001b[0;31mUnboundLocalError\u001b[0m: local variable 'counter' referenced before assignment"
     ]
    }
   ],
   "source": [
    "from random import random\n",
    "\n",
    "def cached(func):\n",
    "    cache = None\n",
    "    counter = 0\n",
    "\n",
    "    def cache_status():\n",
    "        return counter\n",
    "\n",
    "    def cache_reset():\n",
    "        counter = 0\n",
    "        cache = None\n",
    "\n",
    "    def wrapper(*args, **kwargs):\n",
    "        if counter == 0:\n",
    "            cache = func(*args, **kwargs)\n",
    "\n",
    "        counter += 1\n",
    "        return cache\n",
    "    \n",
    "    wrapper.cache_status = cache_status\n",
    "    wrapper.cache_reset = cache_reset\n",
    "    return wrapper\n",
    "\n",
    "@cached\n",
    "def foo(x, y=1, z=4):\n",
    "    return random()\n",
    "\n",
    "\n",
    "print(foo(3) == foo(3))\n",
    "print(foo(4) == foo(4))\n",
    "print(foo(3, z=-1, y=3) == foo(3, y=3, z=-1))\n",
    "print(foo(3) != foo(x=3))\n",
    "a = foo(3)\n",
    "foo.cache_reset()\n",
    "print(a != foo(3))\n",
    "print(foo.cache_status() == 'Function foo called 10 times, evaluated 5 times')"
   ]
  },
  {
   "cell_type": "markdown",
   "metadata": {},
   "source": [
    "## Zadanie 7 (Krzysztof Hajto)"
   ]
  },
  {
   "cell_type": "markdown",
   "metadata": {},
   "source": [
    "Napisz dekorator który będzie robić n-krotne złożenie funkcji, gdzie n jest parametrem dekoratora"
   ]
  },
  {
   "cell_type": "code",
   "execution_count": 2,
   "metadata": {
    "collapsed": true
   },
   "outputs": [
    {
     "name": "stdout",
     "output_type": "stream",
     "text": [
      "True\n",
      "True\n",
      "True\n"
     ]
    }
   ],
   "source": [
    "def zlozenie(n):\n",
    "    def wrapper(func):\n",
    "        def wrapperr(*args, **kwargs):\n",
    "            out = func(*args, **kwargs)\n",
    "            for i in range(n - 1):\n",
    "                out = func(out)\n",
    "            return out\n",
    "        return wrapperr\n",
    "    return wrapper\n",
    "\n",
    "\n",
    "@zlozenie(3)\n",
    "def f1(x):\n",
    "    return x+1\n",
    "\n",
    "@zlozenie(2)\n",
    "def f2(x):\n",
    "    return x*x\n",
    "\n",
    "@zlozenie(5)\n",
    "def f3(word):\n",
    "    return \"\".join(chr(ord(l)+1) for l in word)\n",
    "\n",
    "print(f1(2)==5)\n",
    "print(f2(3)==81)\n",
    "print(f3(\"alamakota\")==\"fqfrfptyf\")"
   ]
  },
  {
   "cell_type": "markdown",
   "metadata": {},
   "source": [
    "## Zadanie 8 (Krzysztof Hajto)"
   ]
  },
  {
   "cell_type": "markdown",
   "metadata": {},
   "source": [
    "Python nie ma wbudowanej instrukcji switch. Ale posiada anonimowe funkcje oraz słowniki. Zaimplementuj poniższy switch w postaci słownika funkcji.\n",
    "`\n",
    "int my_function(x, y) {\n",
    "\n",
    "\n",
    "    switch(x) {\n",
    "        case 1: return y*y;\n",
    "        case 2: return x+y;\n",
    "        case 3: return x*y;\n",
    "        case 4: return 0;\n",
    "    }\n",
    "}\n",
    "`\n",
    "\n",
    "PS. Nigdy nie róbcie tego w faktycznym kodzie :)"
   ]
  },
  {
   "cell_type": "code",
   "execution_count": null,
   "metadata": {
    "collapsed": true
   },
   "outputs": [],
   "source": [
    "def my_function(x, y):\n",
    "    pass\n",
    "\n",
    "print(my_function(1,3)==9)\n",
    "print(my_function(2,4)==6)\n",
    "print(my_function(3,1)==3)\n",
    "print(my_function(4,9)==0)"
   ]
  }
 ],
 "metadata": {
  "kernelspec": {
   "display_name": "Python 3.9.6 64-bit",
   "language": "python",
   "name": "python3"
  },
  "language_info": {
   "codemirror_mode": {
    "name": "ipython",
    "version": 3
   },
   "file_extension": ".py",
   "mimetype": "text/x-python",
   "name": "python",
   "nbconvert_exporter": "python",
   "pygments_lexer": "ipython3",
   "version": "3.9.6"
  },
  "vscode": {
   "interpreter": {
    "hash": "31f2aee4e71d21fbe5cf8b01ff0e069b9275f58929596ceb00d14d90e3e16cd6"
   }
  }
 },
 "nbformat": 4,
 "nbformat_minor": 2
}
